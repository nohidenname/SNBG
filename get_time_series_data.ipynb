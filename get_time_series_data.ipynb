{
 "cells": [
  {
   "cell_type": "code",
   "execution_count": null,
   "metadata": {},
   "outputs": [],
   "source": [
    "import os\n",
    "import nibabel as nib\n",
    "from nilearn import input_data, masking\n",
    "import pandas as pd\n",
    "\n",
    "# 读取AAL模板\n",
    "aal_file_path = r\"your atlas file\"\n",
    "\n",
    "folder_path = r\"your target folder path\"\n",
    "output_folder_path = r\"your output folder\" \n",
    "\n",
    "files = [f for f in os.listdir(folder_path) if f.endswith('.nii')]\n",
    "\n",
    "for target_file in files:\n",
    "    file_path = os.path.join(folder_path, target_file)\n",
    "    # load NIfTI file\n",
    "    img = nib.load(file_path)\n",
    "    mask = masking.compute_background_mask(img)\n",
    "    masker = input_data.NiftiLabelsMasker(labels_img=aal_file_path, standardize=True)\n",
    "    time_series = masker.fit_transform(img)\n",
    "\n",
    "    # create a DataFrame\n",
    "    df = pd.DataFrame(time_series, columns=[f'{i}' for i in range(time_series.shape[1])])\n",
    "\n",
    "    output_csv_path = os.path.join(output_folder_path, f\"{target_file[:-4]}.csv\")\n",
    "    df.to_csv(output_csv_path, index=False)\n"
   ]
  }
 ],
 "metadata": {
  "language_info": {
   "name": "python"
  }
 },
 "nbformat": 4,
 "nbformat_minor": 2
}
