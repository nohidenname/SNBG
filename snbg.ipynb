{
 "cells": [
  {
   "cell_type": "code",
   "execution_count": 1,
   "metadata": {},
   "outputs": [],
   "source": [
    "import numpy as np\n",
    "import networkx as nx\n",
    "import os\n",
    "import pandas as pd\n",
    "from functions import *"
   ]
  },
  {
   "cell_type": "code",
   "execution_count": 3,
   "metadata": {},
   "outputs": [],
   "source": [
    "#select your folder\n",
    "ad_folder_path = r\"your folder path\"\n",
    "cn_folder_path = r\"your folder path\"\n",
    "ad_csv_files = [f for f in os.listdir(ad_folder_path) if f.endswith('.csv')]\n",
    "cn_csv_files = [f for f in os.listdir(cn_folder_path) if f.endswith('.csv')]\n",
    "\n",
    "ad_matrices = get_matrices(ad_folder_path,ad_csv_files)\n",
    "cn_matrices = get_matrices(cn_folder_path,cn_csv_files)\n",
    "\n",
    "#select atlas file\n",
    "df = pd.read_csv(r\"your atlas file\")\n",
    "\n",
    "ad_sub_list = get_sub_list(ad_matrices,df)\n",
    "group_ad_MF,group_ad_FP,group_ad_DM = get_groups(ad_sub_list)\n",
    "\n",
    "cn_sub_list = get_sub_list(cn_matrices,df)\n",
    "group_cn_MF,group_cn_FP,group_cn_DM = get_groups(cn_sub_list)\n",
    "\n",
    "window_size = W # set your window size\n",
    "stride = s # set a stride\n",
    "cut_ad_MF = get_cut_data(group_ad_MF,window_size,stride)\n",
    "cut_ad_FP = get_cut_data(group_ad_FP,window_size,stride)\n",
    "cut_ad_DM = get_cut_data(group_ad_DM,window_size,stride)\n",
    "cut_cn_MF = get_cut_data(group_cn_MF,window_size,stride)\n",
    "cut_cn_FP = get_cut_data(group_cn_FP,window_size,stride)\n",
    "cut_cn_DM = get_cut_data(group_cn_DM,window_size,stride)"
   ]
  },
  {
   "cell_type": "code",
   "execution_count": 4,
   "metadata": {},
   "outputs": [],
   "source": [
    "#snbg method\n",
    "#change data's construction\n",
    "zipped_list_ad_MF = list(zip(*cut_ad_MF))\n",
    "zipped_list_ad_FP = list(zip(*cut_ad_FP))\n",
    "zipped_list_ad_DM = list(zip(*cut_ad_DM))\n",
    "zipped_list_cn_MF = list(zip(*cut_cn_MF))\n",
    "zipped_list_cn_FP = list(zip(*cut_cn_FP))\n",
    "zipped_list_cn_DM = list(zip(*cut_cn_DM))\n",
    "window_sub_ad_MF = [list(x) for x in zipped_list_ad_MF]\n",
    "window_sub_ad_FP = [list(x) for x in zipped_list_ad_FP]\n",
    "window_sub_ad_DM = [list(x) for x in zipped_list_ad_DM]\n",
    "window_sub_cn_MF = [list(x) for x in zipped_list_cn_MF]\n",
    "window_sub_cn_FP = [list(x) for x in zipped_list_cn_FP]\n",
    "window_sub_cn_DM = [list(x) for x in zipped_list_cn_DM]\n",
    "\n",
    "ad_thresh_MF = thresh_list_ad(window_sub_ad_MF,window_sub_cn_MF)\n",
    "ad_thresh_FP = thresh_list_ad(window_sub_ad_FP,window_sub_cn_FP)\n",
    "ad_thresh_DM = thresh_list_ad(window_sub_ad_DM,window_sub_cn_DM)\n",
    "cn_thresh_MF = thresh_list_cn(window_sub_cn_MF)\n",
    "cn_thresh_FP = thresh_list_cn(window_sub_cn_FP)\n",
    "cn_thresh_DM = thresh_list_cn(window_sub_cn_DM)\n",
    "\n",
    "\n",
    "ad_thresh_cut_MF = turn_construct(ad_thresh_MF)\n",
    "ad_thresh_cut_FP = turn_construct(ad_thresh_FP)\n",
    "ad_thresh_cut_DM = turn_construct(ad_thresh_DM)\n",
    "cn_thresh_cut_MF = turn_construct(cn_thresh_MF)\n",
    "cn_thresh_cut_FP = turn_construct(cn_thresh_FP)\n",
    "cn_thresh_cut_DM = turn_construct(cn_thresh_DM)"
   ]
  },
  {
   "cell_type": "markdown",
   "metadata": {},
   "source": [
    "Degree"
   ]
  },
  {
   "cell_type": "code",
   "execution_count": 5,
   "metadata": {},
   "outputs": [],
   "source": [
    "#degree calculate\n",
    "ad_degree_DM = degree_matrix_list(ad_thresh_cut_DM)\n",
    "ad_degree_MF = degree_matrix_list(ad_thresh_cut_MF)\n",
    "ad_degree_FP = degree_matrix_list(ad_thresh_cut_FP)\n",
    "cn_degree_DM = degree_matrix_list(cn_thresh_cut_DM)\n",
    "cn_degree_MF = degree_matrix_list(cn_thresh_cut_MF)\n",
    "cn_degree_FP = degree_matrix_list(cn_thresh_cut_FP)\n",
    "\n",
    "#network's degree features\n",
    "list_degree_DM = []\n",
    "list_degree_FP = []\n",
    "list_degree_MF = []\n",
    "degree_threshold_list = []\n",
    "\n",
    "for i in range(len(ad_degree_DM)):\n",
    "    feature_DM = calculate_feature(ad_degree_DM[i],cn_degree_DM[i])\n",
    "    list_degree_DM.append(feature_DM)\n",
    "for i in range(len(ad_degree_FP)):\n",
    "    feature_FP = calculate_feature(ad_degree_FP[i],cn_degree_FP[i])\n",
    "    list_degree_FP.append(feature_FP)\n",
    "for i in range(len(ad_degree_MF)):\n",
    "    feature_MF = calculate_feature(ad_degree_MF[i],cn_degree_MF[i])\n",
    "    list_degree_MF.append(feature_MF)\n",
    "\n",
    "for i in range(len(ad_degree_DM)):\n",
    "    threshold_feature_ad = np.concatenate([ad_degree_DM[i],ad_degree_FP[i],ad_degree_MF[i]],axis=1)\n",
    "    threshold_feature_cn = np.concatenate([cn_degree_DM[i],cn_degree_FP[i],cn_degree_MF[i]],axis=1)\n",
    "    threshold_feature = calculate_feature(threshold_feature_ad,threshold_feature_cn)\n",
    "    degree_threshold_list.append(threshold_feature)\n",
    "\n",
    "'''DM'''\n",
    "feature_degree_DM = np.vstack((list_degree_DM))\n",
    "'''FP'''\n",
    "feature_degree_FP = np.vstack((list_degree_FP))\n",
    "'''MF'''\n",
    "feature_degree_MF = np.vstack((list_degree_MF))\n",
    "'''DM+FP+MF'''\n",
    "feature_degree = np.vstack((degree_threshold_list))"
   ]
  },
  {
   "cell_type": "code",
   "execution_count": null,
   "metadata": {},
   "outputs": [],
   "source": [
    "#set your cost\n",
    "libsvm(feature_degree_DM,cost)\n",
    "libsvm(feature_degree_FP,cost)\n",
    "libsvm(feature_degree_MF,cost)\n",
    "libsvm(feature_degree,cost)"
   ]
  },
  {
   "cell_type": "markdown",
   "metadata": {},
   "source": [
    "Clustering"
   ]
  },
  {
   "cell_type": "code",
   "execution_count": 13,
   "metadata": {},
   "outputs": [],
   "source": [
    "#network's clustering features\n",
    "ad_clustering_MF = get_clustering_list(ad_thresh_cut_MF)\n",
    "ad_clustering_DM = get_clustering_list(ad_thresh_cut_DM)\n",
    "ad_clustering_FP = get_clustering_list(ad_thresh_cut_FP)\n",
    "cn_clustering_MF = get_clustering_list(cn_thresh_cut_MF)\n",
    "cn_clustering_DM = get_clustering_list(cn_thresh_cut_DM)\n",
    "cn_clustering_FP = get_clustering_list(cn_thresh_cut_FP)\n",
    "\n",
    "ad_c_DM = concatenate_clustering_feature(ad_clustering_DM)\n",
    "ad_c_FP = concatenate_clustering_feature(ad_clustering_FP)\n",
    "ad_c_MF = concatenate_clustering_feature(ad_clustering_MF)\n",
    "ad_clustering_feature = np.concatenate([ad_c_DM,ad_c_FP,ad_c_MF],axis=1)\n",
    "\n",
    "cn_c_DM = concatenate_clustering_feature(cn_clustering_DM)\n",
    "cn_c_FP = concatenate_clustering_feature(cn_clustering_FP)\n",
    "cn_c_MF = concatenate_clustering_feature(cn_clustering_MF)\n",
    "cn_clustering_feature = np.concatenate([cn_c_DM,cn_c_FP,cn_c_MF],axis=1)\n",
    "\n",
    "clustering_snbg_DM = np.vstack(calculate_feature(ad_c_DM,cn_c_DM))\n",
    "clustering_snbg_FP = np.vstack(calculate_feature(ad_c_FP,cn_c_FP))\n",
    "clustering_snbg_MF = np.vstack(calculate_feature(ad_c_MF,cn_c_MF))\n",
    "clustering_snbg = np.vstack(calculate_feature(ad_clustering_feature,cn_clustering_feature))\n"
   ]
  },
  {
   "cell_type": "code",
   "execution_count": null,
   "metadata": {},
   "outputs": [],
   "source": [
    "#set your cost\n",
    "libsvm(clustering_snbg_DM,cost)\n",
    "libsvm(clustering_snbg_FP,cost)\n",
    "libsvm(clustering_snbg_MF,cost)\n",
    "libsvm(clustering_snbg,cost)\n"
   ]
  }
 ],
 "metadata": {
  "kernelspec": {
   "display_name": "bfc",
   "language": "python",
   "name": "python3"
  },
  "language_info": {
   "codemirror_mode": {
    "name": "ipython",
    "version": 3
   },
   "file_extension": ".py",
   "mimetype": "text/x-python",
   "name": "python",
   "nbconvert_exporter": "python",
   "pygments_lexer": "ipython3",
   "version": "3.10.6"
  }
 },
 "nbformat": 4,
 "nbformat_minor": 2
}
