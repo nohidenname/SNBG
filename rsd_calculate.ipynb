{
 "cells": [
  {
   "cell_type": "code",
   "execution_count": null,
   "metadata": {},
   "outputs": [],
   "source": [
    "import numpy as np\n",
    "import networkx as nx\n",
    "import os\n",
    "import pandas as pd\n",
    "from functions import *"
   ]
  },
  {
   "cell_type": "code",
   "execution_count": 2,
   "metadata": {},
   "outputs": [],
   "source": [
    "#select your folder\n",
    "ad_folder_path = r\"E:\\database\\timeseries_matrix\\AD268roi\"\n",
    "cn_folder_path = r\"E:\\database\\timeseries_matrix\\CN268roi\"\n",
    "ad_csv_files = [f for f in os.listdir(ad_folder_path) if f.endswith('.csv')]\n",
    "cn_csv_files = [f for f in os.listdir(cn_folder_path) if f.endswith('.csv')]\n",
    "\n",
    "ad_matrices = get_matrices(ad_folder_path,ad_csv_files)\n",
    "cn_matrices = get_matrices(cn_folder_path,cn_csv_files)\n",
    "\n",
    "#select atlas file\n",
    "df = pd.read_csv(r\"E:\\database\\aal\\268_group.csv\")\n",
    "\n",
    "ad_sub_list = get_sub_list(ad_matrices,df)\n",
    "group_ad_MF,group_ad_FP,group_ad_DM = get_groups(ad_sub_list)\n",
    "\n",
    "cn_sub_list = get_sub_list(cn_matrices,df)\n",
    "group_cn_MF,group_cn_FP,group_cn_DM = get_groups(cn_sub_list)\n",
    "\n",
    "window_size = 20\n",
    "stride = 1\n",
    "cut_ad_MF = get_cut_data(group_ad_MF,window_size,stride)\n",
    "cut_ad_FP = get_cut_data(group_ad_FP,window_size,stride)\n",
    "cut_ad_DM = get_cut_data(group_ad_DM,window_size,stride)\n",
    "cut_cn_MF = get_cut_data(group_cn_MF,window_size,stride)\n",
    "cut_cn_FP = get_cut_data(group_cn_FP,window_size,stride)\n",
    "cut_cn_DM = get_cut_data(group_cn_DM,window_size,stride)"
   ]
  },
  {
   "cell_type": "code",
   "execution_count": 94,
   "metadata": {},
   "outputs": [],
   "source": [
    "#pcc_based method\n",
    "ad_thresh_cut_MF = pcc_method(cut_ad_MF)\n",
    "ad_thresh_cut_FP = pcc_method(cut_ad_FP)\n",
    "ad_thresh_cut_DM = pcc_method(cut_ad_DM)\n",
    "cn_thresh_cut_MF = pcc_method(cut_cn_MF)\n",
    "cn_thresh_cut_FP = pcc_method(cut_cn_FP)\n",
    "cn_thresh_cut_DM = pcc_method(cut_cn_DM)\n",
    "\n",
    "#snbg method\n",
    "zipped_list_ad_MF = list(zip(*cut_ad_MF))\n",
    "zipped_list_ad_FP = list(zip(*cut_ad_FP))\n",
    "zipped_list_ad_DM = list(zip(*cut_ad_DM))\n",
    "zipped_list_cn_MF = list(zip(*cut_cn_MF))\n",
    "zipped_list_cn_FP = list(zip(*cut_cn_FP))\n",
    "zipped_list_cn_DM = list(zip(*cut_cn_DM))\n",
    "window_sub_ad_MF = [list(x) for x in zipped_list_ad_MF]\n",
    "window_sub_ad_FP = [list(x) for x in zipped_list_ad_FP]\n",
    "window_sub_ad_DM = [list(x) for x in zipped_list_ad_DM]\n",
    "window_sub_cn_MF = [list(x) for x in zipped_list_cn_MF]\n",
    "window_sub_cn_FP = [list(x) for x in zipped_list_cn_FP]\n",
    "window_sub_cn_DM = [list(x) for x in zipped_list_cn_DM]\n",
    "\n",
    "ad_thresh_MF = thresh_list_ad(window_sub_ad_MF,window_sub_cn_MF)\n",
    "ad_thresh_FP = thresh_list_ad(window_sub_ad_FP,window_sub_cn_FP)\n",
    "ad_thresh_DM = thresh_list_ad(window_sub_ad_DM,window_sub_cn_DM)\n",
    "cn_thresh_MF = thresh_list_cn(window_sub_cn_MF)\n",
    "cn_thresh_FP = thresh_list_cn(window_sub_cn_FP)\n",
    "cn_thresh_DM = thresh_list_cn(window_sub_cn_DM)\n",
    "\n",
    "\n",
    "ad_thresh_cut_MF_snbg = turn_construct(ad_thresh_MF)\n",
    "ad_thresh_cut_FP_snbg = turn_construct(ad_thresh_FP)\n",
    "ad_thresh_cut_DM_snbg = turn_construct(ad_thresh_DM)\n",
    "cn_thresh_cut_MF_snbg = turn_construct(cn_thresh_MF)\n",
    "cn_thresh_cut_FP_snbg = turn_construct(cn_thresh_FP)\n",
    "cn_thresh_cut_DM_snbg = turn_construct(cn_thresh_DM)"
   ]
  },
  {
   "cell_type": "code",
   "execution_count": 95,
   "metadata": {},
   "outputs": [],
   "source": [
    "#degree calculate by pcc-based method\n",
    "ad_degree_DM = degree_matrix_list(ad_thresh_cut_DM)\n",
    "ad_degree_MF = degree_matrix_list(ad_thresh_cut_MF)\n",
    "ad_degree_FP = degree_matrix_list(ad_thresh_cut_FP)\n",
    "cn_degree_DM = degree_matrix_list(cn_thresh_cut_DM)\n",
    "cn_degree_MF = degree_matrix_list(cn_thresh_cut_MF)\n",
    "cn_degree_FP = degree_matrix_list(cn_thresh_cut_FP)\n",
    "\n",
    "#degree calculate by snbg\n",
    "ad_degree_DM_snbg = degree_matrix_list(ad_thresh_cut_DM_snbg)\n",
    "ad_degree_MF_snbg = degree_matrix_list(ad_thresh_cut_MF_snbg)\n",
    "ad_degree_FP_snbg = degree_matrix_list(ad_thresh_cut_FP_snbg)\n",
    "cn_degree_DM_snbg = degree_matrix_list(cn_thresh_cut_DM_snbg)\n",
    "cn_degree_MF_snbg = degree_matrix_list(cn_thresh_cut_MF_snbg)\n",
    "cn_degree_FP_snbg = degree_matrix_list(cn_thresh_cut_FP_snbg)"
   ]
  },
  {
   "cell_type": "markdown",
   "metadata": {},
   "source": [
    "RSD of nodes' degree"
   ]
  },
  {
   "cell_type": "code",
   "execution_count": 96,
   "metadata": {},
   "outputs": [],
   "source": [
    "rsd_ad_DM = get_rsd_list(ad_degree_DM)\n",
    "rsd_ad_MF = get_rsd_list(ad_degree_MF)\n",
    "rsd_ad_FP = get_rsd_list(ad_degree_FP)\n",
    "rsd_cn_DM = get_rsd_list(cn_degree_DM)\n",
    "rsd_cn_MF = get_rsd_list(cn_degree_MF)\n",
    "rsd_cn_FP = get_rsd_list(cn_degree_FP)\n",
    "\n",
    "rsd_ad_DM_snbg = get_rsd_list(ad_degree_DM_snbg)\n",
    "rsd_ad_MF_snbg = get_rsd_list(ad_degree_MF_snbg)\n",
    "rsd_ad_FP_snbg = get_rsd_list(ad_degree_FP_snbg)\n",
    "rsd_cn_DM_snbg = get_rsd_list(cn_degree_DM_snbg)\n",
    "rsd_cn_MF_snbg = get_rsd_list(cn_degree_MF_snbg)\n",
    "rsd_cn_FP_snbg = get_rsd_list(cn_degree_FP_snbg)"
   ]
  },
  {
   "cell_type": "code",
   "execution_count": 97,
   "metadata": {},
   "outputs": [],
   "source": [
    "rsd_thresh_ad_DM = get_combine_res(rsd_ad_DM,rsd_ad_DM_snbg)\n",
    "rsd_thresh_ad_MF = get_combine_res(rsd_ad_MF,rsd_ad_MF_snbg)\n",
    "rsd_thresh_ad_FP = get_combine_res(rsd_ad_FP,rsd_ad_FP_snbg)\n",
    "\n",
    "rsd_thresh_cn_DM = get_combine_res(rsd_cn_DM,rsd_cn_DM_snbg)\n",
    "rsd_thresh_cn_MF = get_combine_res(rsd_cn_MF,rsd_cn_MF_snbg)\n",
    "rsd_thresh_cn_FP = get_combine_res(rsd_cn_FP,rsd_cn_FP_snbg)"
   ]
  },
  {
   "cell_type": "markdown",
   "metadata": {},
   "source": [
    "RSD of global efficiency"
   ]
  },
  {
   "cell_type": "code",
   "execution_count": 99,
   "metadata": {},
   "outputs": [],
   "source": [
    "data_ad_ec_FP = get_ec_feature(ad_thresh_cut_FP)\n",
    "data_ad_ec_MF = get_ec_feature(ad_thresh_cut_MF)\n",
    "data_ad_ec_DM = get_ec_feature(ad_thresh_cut_DM)\n",
    "data_cn_ec_FP = get_ec_feature(cn_thresh_cut_FP)\n",
    "data_cn_ec_MF = get_ec_feature(cn_thresh_cut_MF)\n",
    "data_cn_ec_DM = get_ec_feature(cn_thresh_cut_DM)\n",
    "\n",
    "data_ad_ec_FP_snbg = get_ec_feature(ad_thresh_cut_FP_snbg)\n",
    "data_ad_ec_MF_snbg = get_ec_feature(ad_thresh_cut_MF_snbg)\n",
    "data_ad_ec_DM_snbg = get_ec_feature(ad_thresh_cut_DM_snbg)\n",
    "data_cn_ec_FP_snbg = get_ec_feature(cn_thresh_cut_FP_snbg)\n",
    "data_cn_ec_MF_snbg = get_ec_feature(cn_thresh_cut_MF_snbg)\n",
    "data_cn_ec_DM_snbg = get_ec_feature(cn_thresh_cut_DM_snbg)\n",
    "\n"
   ]
  },
  {
   "cell_type": "code",
   "execution_count": 100,
   "metadata": {},
   "outputs": [],
   "source": [
    "ec_list_ad_DM = concate_matrix(data_ad_ec_DM,data_ad_ec_DM_snbg)\n",
    "ec_list_ad_MF = concate_matrix(data_ad_ec_MF,data_ad_ec_MF_snbg)\n",
    "ec_list_ad_FP = concate_matrix(data_ad_ec_FP,data_ad_ec_FP_snbg)\n",
    "\n",
    "ec_list_cn_DM = concate_matrix(data_cn_ec_DM,data_cn_ec_DM_snbg)\n",
    "ec_list_cn_MF = concate_matrix(data_cn_ec_MF,data_cn_ec_MF_snbg)\n",
    "ec_list_cn_FP = concate_matrix(data_cn_ec_FP,data_cn_ec_FP_snbg)"
   ]
  },
  {
   "cell_type": "code",
   "execution_count": 104,
   "metadata": {},
   "outputs": [],
   "source": [
    "ad_ec_rsd_DM = get_ec_rsd_matrix(ec_list_ad_DM)\n",
    "ad_ec_rsd_MF = get_ec_rsd_matrix(ec_list_ad_MF)\n",
    "ad_ec_rsd_FP = get_ec_rsd_matrix(ec_list_ad_FP)\n",
    "cn_ec_rsd_DM = get_ec_rsd_matrix(ec_list_cn_DM)\n",
    "cn_ec_rsd_MF = get_ec_rsd_matrix(ec_list_cn_MF)\n",
    "cn_ec_rsd_FP = get_ec_rsd_matrix(ec_list_cn_FP)"
   ]
  },
  {
   "cell_type": "code",
   "execution_count": 106,
   "metadata": {},
   "outputs": [
    {
     "name": "stdout",
     "output_type": "stream",
     "text": [
      "[[0.07   0.0162]\n",
      " [0.0799 0.0184]\n",
      " [0.0855 0.0302]\n",
      " [0.0543 0.0179]\n",
      " [0.0998 0.0259]\n",
      " [0.0894 0.021 ]]\n"
     ]
    }
   ],
   "source": [
    "thresh_matrix_list = get_traget_ec_matrix(ad_ec_rsd_DM,ad_ec_rsd_MF,ad_ec_rsd_FP,cn_ec_rsd_DM,cn_ec_rsd_MF,cn_ec_rsd_FP)\n",
    "print(np.round(thresh_matrix_list[6],4))"
   ]
  }
 ],
 "metadata": {
  "kernelspec": {
   "display_name": "bfc",
   "language": "python",
   "name": "python3"
  },
  "language_info": {
   "codemirror_mode": {
    "name": "ipython",
    "version": 3
   },
   "file_extension": ".py",
   "mimetype": "text/x-python",
   "name": "python",
   "nbconvert_exporter": "python",
   "pygments_lexer": "ipython3",
   "version": "3.10.6"
  }
 },
 "nbformat": 4,
 "nbformat_minor": 2
}
