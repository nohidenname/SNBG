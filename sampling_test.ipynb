{
 "cells": [
  {
   "cell_type": "code",
   "execution_count": null,
   "metadata": {},
   "outputs": [],
   "source": [
    "import numpy as np\n",
    "import networkx as nx\n",
    "import os\n",
    "import pandas as pd\n",
    "from functions import *\n",
    "\n",
    "#select your folder\n",
    "ad_folder_path = r\"E:\\database\\timeseries_matrix\\AD268roi\"\n",
    "cn_folder_path = r\"E:\\database\\timeseries_matrix\\CN268roi\"\n",
    "ad_csv_files = [f for f in os.listdir(ad_folder_path) if f.endswith('.csv')]\n",
    "cn_csv_files = [f for f in os.listdir(cn_folder_path) if f.endswith('.csv')]\n",
    "\n",
    "ad_matrices = get_matrices(ad_folder_path,ad_csv_files)\n",
    "cn_matrices = get_matrices(cn_folder_path,cn_csv_files)"
   ]
  },
  {
   "cell_type": "code",
   "execution_count": null,
   "metadata": {},
   "outputs": [],
   "source": [
    "ad_thresh_cut_MF,ad_thresh_cut_FP,ad_thresh_cut_DM,cn_thresh_cut_MF,cn_thresh_cut_FP,cn_thresh_cut_DM,ad_thresh_cut_MF_snbg,ad_thresh_cut_FP_snbg,ad_thresh_cut_DM_snbg,cn_thresh_cut_MF_snbg,cn_thresh_cut_FP_snbg,cn_thresh_cut_DM_snbg = get_test_data(ad_matrices,cn_matrices,W,s)#W is window size,s is stride\n",
    "pcc_degree, snbg_degree = robust_test(ad_thresh_cut_MF,ad_thresh_cut_FP,ad_thresh_cut_DM,cn_thresh_cut_MF,cn_thresh_cut_FP,cn_thresh_cut_DM,ad_thresh_cut_MF_snbg,ad_thresh_cut_FP_snbg,ad_thresh_cut_DM_snbg,cn_thresh_cut_MF_snbg,cn_thresh_cut_FP_snbg,cn_thresh_cut_DM_snbg)"
   ]
  },
  {
   "cell_type": "code",
   "execution_count": null,
   "metadata": {},
   "outputs": [],
   "source": [
    "import random\n",
    "\n",
    "# 定义采样次数和抽取比例\n",
    "matrix_array = np.array(ad_matrices, dtype=object)\n",
    "num_samples = num1 # set a sampling number\n",
    "sample_ratio = num2 # set a ration\n",
    "sample_size = int(len(ad_matrices) * sample_ratio)\n",
    "results_pcc = []\n",
    "results_snbg = []\n",
    "\n",
    "# 循环采样 50 次\n",
    "for _ in range(num_samples):\n",
    "    sampled_ad = random.sample(ad_matrices,sample_size)\n",
    "    sampled_cn = random.sample(cn_matrices,sample_size)\n",
    "    ad_thresh_cut_MF,ad_thresh_cut_FP,ad_thresh_cut_DM,cn_thresh_cut_MF,cn_thresh_cut_FP,cn_thresh_cut_DM,ad_thresh_cut_MF_snbg,ad_thresh_cut_FP_snbg,ad_thresh_cut_DM_snbg,cn_thresh_cut_MF_snbg,cn_thresh_cut_FP_snbg,cn_thresh_cut_DM_snbg = get_test_data(sampled_ad,sampled_cn)\n",
    "    pcc_degree, snbg_degree = robust_test(ad_thresh_cut_MF,ad_thresh_cut_FP,ad_thresh_cut_DM,cn_thresh_cut_MF,cn_thresh_cut_FP,cn_thresh_cut_DM,ad_thresh_cut_MF_snbg,ad_thresh_cut_FP_snbg,ad_thresh_cut_DM_snbg,cn_thresh_cut_MF_snbg,cn_thresh_cut_FP_snbg,cn_thresh_cut_DM_snbg)\n",
    "    results_pcc.append(pcc_degree)\n",
    "    results_snbg.append(snbg_degree)\n",
    "\n",
    "\n",
    "\n"
   ]
  }
 ],
 "metadata": {
  "kernelspec": {
   "display_name": "bfc",
   "language": "python",
   "name": "python3"
  },
  "language_info": {
   "name": "python",
   "version": "3.10.6"
  }
 },
 "nbformat": 4,
 "nbformat_minor": 2
}
